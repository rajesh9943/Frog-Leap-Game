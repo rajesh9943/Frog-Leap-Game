{
  "cells": [
    {
      "cell_type": "markdown",
      "metadata": {
        "id": "Zvn9u1-OWd9S"
      },
      "source": [
        "## Problem statement ##\n",
        "Create famous 'Frog leap' puzzle game. Do get an clear Understanding\n",
        "[View Documentation](https://drive.google.com/file/d/1C9PFz_Is3ijYwfIRMn-iN3ycYc498qZg/view?usp=sharing).<br>\n",
        "\n",
        "### Rules ###\n",
        "1. The left set of frogs can only move right, the right set of frogs can only move left.\n",
        "2. Frogs can move forward one space, or move two spaces by jumping over another frog from opposite side.\n",
        "3. The puzzle is solved when the two sets of frogs have switched positions.\n",
        "<br>\n",
        "\n"
      ]
    },
    {
      "cell_type": "markdown",
      "metadata": {
        "id": "2Mt5oykEWd9Y"
      },
      "source": [
        "## Steps to solve the problem:\n",
        "### Step1:-\n",
        "- Display green and brown frogs on the left and right sides initially.\n",
        "\n",
        "Initial Display :-  \n",
        "```\n",
        "[ 0 ,  1 ,  2 ,  3 ,  4 ,  5 ,  6 ]\n",
        "['G', 'G', 'G', '-', 'B', 'B', 'B']\n",
        "```\n",
        "<br>\n",
        "Here 'G' represents Green frogs on the left side and 'B' represents brown frogs on the right side. The '-' defines the position of empty leaf.\n",
        "(You can change display according to your imagination or convinience)\n",
        "\n",
        "### Step2:-\n",
        "Accept positions of the frog that you want to move.<br>\n",
        "Example: If we enter position 2 then the game will look like this:-\n",
        "```\n",
        "[ 0 ,  1 ,  2 ,  3 ,  4 ,  5 ,  6 ]\n",
        "['G', 'G', '-', 'G', 'B', 'B', 'B']\n",
        "```\n",
        "\n",
        "### Step3:- ###\n",
        "Define Invalid moves and add conditional 'if' statements accordingly\n",
        "#### Rules\n",
        "1. Entered position should be between 0 to 6. Or a character 'q' to quit the game.\n",
        "2. Entered position cannot be the position of empty leaf.\n",
        "3. If the selected frog position cannot perform the contrains given in rule 2 then the move is invalid.\n",
        "\n",
        "### Step4:-\n",
        "Make the appropriate move by changing the game display."
      ]
    },
    {
      "cell_type": "markdown",
      "metadata": {
        "id": "zOthzh2sWd9a"
      },
      "source": [
        "## Step 1\n",
        "First create a list `positions` which contains the characters 'G','B' and '-' in the same sequence as given in the initial display state."
      ]
    },
    {
      "cell_type": "code",
      "execution_count": null,
      "metadata": {
        "id": "kfvfbW6lWd9d"
      },
      "outputs": [],
      "source": [
        "Positions = list(['G','G','G','-','B','B','B'])"
      ]
    },
    {
      "cell_type": "markdown",
      "metadata": {
        "id": "S1vqZzqkWd9g"
      },
      "source": [
        "Now print this string ```[ 0 ,  1 ,  2 ,  3 ,  4 ,  5 ,  6 ]``` and after that print the list `positions`"
      ]
    },
    {
      "cell_type": "code",
      "execution_count": null,
      "metadata": {
        "colab": {
          "base_uri": "https://localhost:8080/"
        },
        "id": "JmOW6sNVWd9h",
        "outputId": "253d9fed-8866-493f-89c2-89ab2286e704"
      },
      "outputs": [
        {
          "name": "stdout",
          "output_type": "stream",
          "text": [
            "###### Always enter an integer less that 7 ######\n",
            "[ 0 ,  1 ,  2 ,  3 ,  4 ,  5 ,  6 ]\n",
            "['G', 'G', 'G', '-', 'B', 'B', 'B']\n"
          ]
        }
      ],
      "source": [
        "print(\"###### Always enter an integer less that 7 ######\")\n",
        "print(\"[ 0 ,  1 ,  2 ,  3 ,  4 ,  5 ,  6 ]\")\n",
        "print(Positions)"
      ]
    },
    {
      "cell_type": "markdown",
      "metadata": {
        "id": "gC4gPNVgWd9k"
      },
      "source": [
        "Take position number as input."
      ]
    },
    {
      "cell_type": "code",
      "execution_count": null,
      "metadata": {
        "colab": {
          "base_uri": "https://localhost:8080/"
        },
        "id": "2Px3D11CWd9l",
        "outputId": "23f1a8e8-f641-423e-cb06-bda8662cf414"
      },
      "outputs": [
        {
          "name": "stdout",
          "output_type": "stream",
          "text": [
            "Press q to quit else \n",
            "Enter position of piece:2\n"
          ]
        }
      ],
      "source": [
        "pos = input(\"Press q to quit else \\nEnter position of piece:\")"
      ]
    },
    {
      "cell_type": "markdown",
      "metadata": {
        "id": "ra0Zs3SjWd9m"
      },
      "source": [
        "Now the taken input is in string format. So first check if the input is 'q' character. If input is 'q' then the person is quiting the game so print 'You Lose'."
      ]
    },
    {
      "cell_type": "code",
      "execution_count": null,
      "metadata": {
        "colab": {
          "base_uri": "https://localhost:8080/",
          "height": 197
        },
        "id": "wY2lf7j4Wd9p",
        "outputId": "621c2fe8-5e6c-4cae-9c3f-b5ffa1687585"
      },
      "outputs": [
        {
          "ename": "NameError",
          "evalue": "ignored",
          "output_type": "error",
          "traceback": [
            "\u001b[0;31m---------------------------------------------------------------------------\u001b[0m",
            "\u001b[0;31mNameError\u001b[0m                                 Traceback (most recent call last)",
            "\u001b[0;32m<ipython-input-4-2a14958434f2>\u001b[0m in \u001b[0;36m<cell line: 1>\u001b[0;34m()\u001b[0m\n\u001b[0;32m----> 1\u001b[0;31m \u001b[0;32mif\u001b[0m \u001b[0mpos\u001b[0m \u001b[0;34m==\u001b[0m \u001b[0;34m'q'\u001b[0m\u001b[0;34m:\u001b[0m\u001b[0;34m\u001b[0m\u001b[0;34m\u001b[0m\u001b[0m\n\u001b[0m\u001b[1;32m      2\u001b[0m     \u001b[0mprint\u001b[0m\u001b[0;34m(\u001b[0m\u001b[0;34m\"YOU LOSE!!\"\u001b[0m\u001b[0;34m)\u001b[0m\u001b[0;34m\u001b[0m\u001b[0;34m\u001b[0m\u001b[0m\n",
            "\u001b[0;31mNameError\u001b[0m: name 'pos' is not defined"
          ]
        }
      ],
      "source": [
        "if pos == 'q':\n",
        "    print(\"YOU LOSE!!\")"
      ]
    },
    {
      "cell_type": "markdown",
      "metadata": {
        "id": "PFNck5lWWd9q"
      },
      "source": [
        "Next if input character is not 'q' then it has to be some integer. so convert input to integer format."
      ]
    },
    {
      "cell_type": "code",
      "execution_count": null,
      "metadata": {
        "id": "IhA0HWLEWd9r"
      },
      "outputs": [],
      "source": [
        "pos = int(pos)"
      ]
    },
    {
      "cell_type": "markdown",
      "metadata": {
        "id": "NrJG4GSrWd9s"
      },
      "source": [
        "## Step 2\n",
        "Now we have to check validity of the selected positions or move.<br>\n",
        "If the entered number isn't between form 0 to 6 both included, then print 'Invalid move'."
      ]
    },
    {
      "cell_type": "code",
      "execution_count": null,
      "metadata": {
        "colab": {
          "base_uri": "https://localhost:8080/",
          "height": 197
        },
        "id": "AE1TwwynWd9s",
        "outputId": "3bc31b7a-a751-43ef-818f-4bb1dae43c00"
      },
      "outputs": [
        {
          "ename": "NameError",
          "evalue": "ignored",
          "output_type": "error",
          "traceback": [
            "\u001b[0;31m---------------------------------------------------------------------------\u001b[0m",
            "\u001b[0;31mNameError\u001b[0m                                 Traceback (most recent call last)",
            "\u001b[0;32m<ipython-input-5-d1903840a68d>\u001b[0m in \u001b[0;36m<cell line: 1>\u001b[0;34m()\u001b[0m\n\u001b[0;32m----> 1\u001b[0;31m \u001b[0;32mif\u001b[0m \u001b[0mpos\u001b[0m\u001b[0;34m<\u001b[0m\u001b[0;36m0\u001b[0m \u001b[0;32mor\u001b[0m \u001b[0;36m6\u001b[0m\u001b[0;34m<\u001b[0m\u001b[0mpos\u001b[0m\u001b[0;34m:\u001b[0m\u001b[0;34m\u001b[0m\u001b[0;34m\u001b[0m\u001b[0m\n\u001b[0m\u001b[1;32m      2\u001b[0m     \u001b[0mprint\u001b[0m\u001b[0;34m(\u001b[0m\u001b[0;34m\"Invalid move\"\u001b[0m\u001b[0;34m)\u001b[0m\u001b[0;34m\u001b[0m\u001b[0;34m\u001b[0m\u001b[0m\n",
            "\u001b[0;31mNameError\u001b[0m: name 'pos' is not defined"
          ]
        }
      ],
      "source": [
        "if pos<0 or 6<pos:\n",
        "    print(\"Invalid move\")"
      ]
    },
    {
      "cell_type": "markdown",
      "metadata": {
        "id": "TT0uBQ9qWd9t"
      },
      "source": [
        "A frog should be present on the selected position to make a move. If leaf is selected then it doesn't make sense. Therefore, if entered postition is same as the postition of empty leaf then the move is invalid."
      ]
    },
    {
      "cell_type": "code",
      "execution_count": null,
      "metadata": {
        "id": "NTPToJJ9Wd9t"
      },
      "outputs": [],
      "source": [
        "if Positions[pos] == '-':\n",
        "    print(\"Invalid move\")"
      ]
    },
    {
      "cell_type": "markdown",
      "metadata": {
        "id": "1e1y8J6UWd9u"
      },
      "source": [
        "    Check if the selected frog is 'G':\n",
        "\n",
        "        (Inside if when it's 'G'. As 'G' is selected frog can move to right only.)\n",
        "\n",
        "        ❗condition 1\n",
        "\n",
        "        If **selected_position + 1** is less than or equal to 6 and **curent_position + 1** contains '-'\n",
        "        then it's a valid move and store that postion in `pos2`.\n",
        "\n",
        "        ❗condition2\n",
        "\n",
        "        Else if **selected_position + 2** is less than or equal to 6 and if **current_position + 2**\n",
        "        contains '-' and if **selected_position + 1** contains 'B' then it's a valid move  and store that postion in `pos2`.\n",
        "\n",
        "        ❗condition3:\n",
        "\n",
        "        Else remainig all are invalid, so print `Invalid Move`"
      ]
    },
    {
      "cell_type": "code",
      "execution_count": null,
      "metadata": {
        "colab": {
          "base_uri": "https://localhost:8080/",
          "height": 269
        },
        "id": "m3gscGFjWd9v",
        "outputId": "5594ddc5-93f8-4196-9cc8-7eb95c5745b8"
      },
      "outputs": [
        {
          "ename": "NameError",
          "evalue": "ignored",
          "output_type": "error",
          "traceback": [
            "\u001b[0;31m---------------------------------------------------------------------------\u001b[0m",
            "\u001b[0;31mNameError\u001b[0m                                 Traceback (most recent call last)",
            "\u001b[0;32m<ipython-input-6-4e21a4588d20>\u001b[0m in \u001b[0;36m<cell line: 1>\u001b[0;34m()\u001b[0m\n\u001b[0;32m----> 1\u001b[0;31m \u001b[0;32mif\u001b[0m \u001b[0mPositions\u001b[0m\u001b[0;34m[\u001b[0m\u001b[0mpos\u001b[0m\u001b[0;34m]\u001b[0m \u001b[0;34m==\u001b[0m \u001b[0;34m'G'\u001b[0m\u001b[0;34m:\u001b[0m\u001b[0;34m\u001b[0m\u001b[0;34m\u001b[0m\u001b[0m\n\u001b[0m\u001b[1;32m      2\u001b[0m     \u001b[0;32mif\u001b[0m \u001b[0;34m(\u001b[0m\u001b[0mpos\u001b[0m \u001b[0;34m+\u001b[0m \u001b[0;36m1\u001b[0m\u001b[0;34m)\u001b[0m \u001b[0;34m<=\u001b[0m \u001b[0;36m6\u001b[0m \u001b[0;32mand\u001b[0m \u001b[0mPositions\u001b[0m\u001b[0;34m[\u001b[0m\u001b[0mpos\u001b[0m \u001b[0;34m+\u001b[0m \u001b[0;36m1\u001b[0m\u001b[0;34m]\u001b[0m \u001b[0;34m==\u001b[0m \u001b[0;34m'-'\u001b[0m\u001b[0;34m:\u001b[0m\u001b[0;34m\u001b[0m\u001b[0;34m\u001b[0m\u001b[0m\n\u001b[1;32m      3\u001b[0m         \u001b[0;32mpass\u001b[0m\u001b[0;34m\u001b[0m\u001b[0;34m\u001b[0m\u001b[0m\n\u001b[1;32m      4\u001b[0m \u001b[0;34m\u001b[0m\u001b[0m\n\u001b[1;32m      5\u001b[0m     \u001b[0;32melif\u001b[0m \u001b[0;34m(\u001b[0m\u001b[0mpos\u001b[0m \u001b[0;34m+\u001b[0m \u001b[0;36m2\u001b[0m\u001b[0;34m)\u001b[0m \u001b[0;34m<=\u001b[0m \u001b[0;36m6\u001b[0m \u001b[0;32mand\u001b[0m \u001b[0mPositions\u001b[0m\u001b[0;34m[\u001b[0m\u001b[0mpos\u001b[0m \u001b[0;34m+\u001b[0m \u001b[0;36m2\u001b[0m\u001b[0;34m]\u001b[0m \u001b[0;34m==\u001b[0m \u001b[0;34m'-'\u001b[0m \u001b[0;32mand\u001b[0m \u001b[0mPositions\u001b[0m\u001b[0;34m[\u001b[0m\u001b[0mpos\u001b[0m \u001b[0;34m+\u001b[0m \u001b[0;36m1\u001b[0m\u001b[0;34m]\u001b[0m \u001b[0;34m==\u001b[0m \u001b[0;34m'B'\u001b[0m\u001b[0;34m:\u001b[0m\u001b[0;34m\u001b[0m\u001b[0;34m\u001b[0m\u001b[0m\n",
            "\u001b[0;31mNameError\u001b[0m: name 'pos' is not defined"
          ]
        }
      ],
      "source": [
        "if Positions[pos] == 'G':\n",
        "    if (pos + 1) <= 6 and Positions[pos + 1] == '-':\n",
        "        pass\n",
        "\n",
        "    elif (pos + 2) <= 6 and Positions[pos + 2] == '-' and Positions[pos + 1] == 'B':\n",
        "        pass\n",
        "    else:\n",
        "        print(\"Invalid move\")"
      ]
    },
    {
      "cell_type": "markdown",
      "metadata": {
        "id": "2Kp6JQ_nWd9v"
      },
      "source": [
        "  Check if the selected frog is 'B':\n",
        "\n",
        "        (Inside if when it's 'B'. As 'B' is selected frog can move to left only.)\n",
        "\n",
        "        ❗condition1:\n",
        "\n",
        "        If **selected_position - 1** is more than or equal to 0 and **curent_position - 1** contains '-' then\n",
        "        it's a valid move and and store that postion in `pos2`.\n",
        "\n",
        "        ❗condition2:\n",
        "\n",
        "        Else if **selected_position - 2** is more than or equal to 0 and if **current_position - 2** contains '-'\n",
        "        and if **selected_position - 1** contains 'G' then it's a valid move and and store that postion in `pos2`.\n",
        "\n",
        "        ❗condition3:\n",
        "\n",
        "        Else remainig all are invalid,, so print `Invalid Move`."
      ]
    },
    {
      "cell_type": "code",
      "execution_count": null,
      "metadata": {
        "id": "OB9tJmZOWd9w"
      },
      "outputs": [],
      "source": [
        "if Positions[pos] == 'B':\n",
        "    if (pos - 1) >= 0 and Positions[pos - 1] == '-':\n",
        "        pass\n",
        "    elif (pos - 2) >= 0 and Positions[pos - 2] == '-' and Positions[pos - 1] == 'G':\n",
        "        pass\n",
        "    else:\n",
        "        print(\"Invalid move\")"
      ]
    },
    {
      "cell_type": "markdown",
      "metadata": {
        "id": "yOBn95K1Wd9w"
      },
      "source": [
        "## Step 3\n",
        "Now we have to make appropriate move.<br>\n",
        "```\n",
        "       Check if the selected frog is 'G':\n",
        "           (Inside if when it's 'G')\n",
        "           condition1:\n",
        "           If selected position +1 is empty leaf select it as positions2 by assigning it to some variable.\n",
        "           \n",
        "           condition2:\n",
        "           If selected position +2 is empty leaf select it as positions2 by assigning it to some variable.\n",
        "           \n",
        "```"
      ]
    },
    {
      "cell_type": "code",
      "execution_count": null,
      "metadata": {
        "colab": {
          "base_uri": "https://localhost:8080/",
          "height": 251
        },
        "id": "YajLk5alWd9y",
        "outputId": "0d6f6f7c-d4f6-439b-9a54-1b04d5a834d4"
      },
      "outputs": [
        {
          "ename": "NameError",
          "evalue": "ignored",
          "output_type": "error",
          "traceback": [
            "\u001b[0;31m---------------------------------------------------------------------------\u001b[0m",
            "\u001b[0;31mNameError\u001b[0m                                 Traceback (most recent call last)",
            "\u001b[0;32m<ipython-input-7-71186c6f4773>\u001b[0m in \u001b[0;36m<cell line: 2>\u001b[0;34m()\u001b[0m\n\u001b[1;32m      1\u001b[0m \u001b[0mpos2\u001b[0m \u001b[0;34m=\u001b[0m \u001b[0;36m0\u001b[0m\u001b[0;34m\u001b[0m\u001b[0;34m\u001b[0m\u001b[0m\n\u001b[0;32m----> 2\u001b[0;31m \u001b[0;32mif\u001b[0m \u001b[0mPositions\u001b[0m\u001b[0;34m[\u001b[0m\u001b[0mpos\u001b[0m\u001b[0;34m]\u001b[0m \u001b[0;34m==\u001b[0m \u001b[0;34m'G'\u001b[0m\u001b[0;34m:\u001b[0m\u001b[0;34m\u001b[0m\u001b[0;34m\u001b[0m\u001b[0m\n\u001b[0m\u001b[1;32m      3\u001b[0m     \u001b[0;32mif\u001b[0m \u001b[0mPositions\u001b[0m\u001b[0;34m[\u001b[0m\u001b[0mpos\u001b[0m \u001b[0;34m+\u001b[0m \u001b[0;36m1\u001b[0m\u001b[0;34m]\u001b[0m \u001b[0;34m==\u001b[0m \u001b[0;34m'-'\u001b[0m\u001b[0;34m:\u001b[0m\u001b[0;34m\u001b[0m\u001b[0;34m\u001b[0m\u001b[0m\n\u001b[1;32m      4\u001b[0m         \u001b[0mpos2\u001b[0m \u001b[0;34m=\u001b[0m \u001b[0;34m(\u001b[0m\u001b[0mpos\u001b[0m\u001b[0;34m+\u001b[0m\u001b[0;36m1\u001b[0m\u001b[0;34m)\u001b[0m\u001b[0;34m\u001b[0m\u001b[0;34m\u001b[0m\u001b[0m\n\u001b[1;32m      5\u001b[0m     \u001b[0;32melif\u001b[0m \u001b[0mPositions\u001b[0m\u001b[0;34m[\u001b[0m\u001b[0mpos\u001b[0m \u001b[0;34m+\u001b[0m \u001b[0;36m2\u001b[0m\u001b[0;34m]\u001b[0m \u001b[0;34m==\u001b[0m \u001b[0;34m'-'\u001b[0m\u001b[0;34m:\u001b[0m\u001b[0;34m\u001b[0m\u001b[0;34m\u001b[0m\u001b[0m\n",
            "\u001b[0;31mNameError\u001b[0m: name 'pos' is not defined"
          ]
        }
      ],
      "source": [
        "pos2 = 0\n",
        "if Positions[pos] == 'G':\n",
        "    if Positions[pos + 1] == '-':\n",
        "        pos2 = (pos+1)\n",
        "    elif Positions[pos + 2] == '-':\n",
        "        pos2 = (pos+2)"
      ]
    },
    {
      "cell_type": "markdown",
      "metadata": {
        "id": "0w52Z0zeWd9z"
      },
      "source": [
        "```\n",
        "       Check if the selected frog is 'B':\n",
        "           (Inside if when it's 'B')\n",
        "           condition1:\n",
        "           If selected position -1 is empty leaf select it as positions2 by assigning it to some variable.\n",
        "           \n",
        "           condition2:\n",
        "           If selected position -2 is empty leaf select it as positions2 by assigning it to some variable.\n",
        "           \n",
        "```\n",
        "<br>\n",
        "(You can assign these values while writing invalid moves but the code will look complecated so we are assigning position in different 'if' statement.)"
      ]
    },
    {
      "cell_type": "code",
      "execution_count": null,
      "metadata": {
        "id": "hlIvJMhNWd90"
      },
      "outputs": [],
      "source": [
        "if Positions[pos] == 'B':\n",
        "    if Positions[pos - 1] == '-':\n",
        "        pos2 = (pos-1)\n",
        "    elif Positions[pos - 2] == '-':\n",
        "        pos2 = (pos-2)"
      ]
    },
    {
      "cell_type": "markdown",
      "metadata": {
        "id": "8-_8FmH-Wd91"
      },
      "source": [
        "Swap the element at selected positions and calculated position2 in the list.<br> So basically we are moving the frog to next valid position by swapping elelments of array."
      ]
    },
    {
      "cell_type": "code",
      "execution_count": null,
      "metadata": {
        "id": "qVSky6rpWd91"
      },
      "outputs": [],
      "source": [
        "Positions[pos], Positions[pos2] = Positions[pos2], Positions[pos]"
      ]
    },
    {
      "cell_type": "markdown",
      "metadata": {
        "id": "fZxWa23kWd91"
      },
      "source": [
        "Now print the display of the game again to see the change.<br>\n",
        "If we enter position 2 then the output will look like this:-\n",
        "```\n",
        "[ 0 ,  1 ,  2 ,  3 ,  4 ,  5 ,  6 ]\n",
        "['G', 'G', '-', 'G', 'B', 'B', 'B']\n",
        "```"
      ]
    },
    {
      "cell_type": "code",
      "execution_count": null,
      "metadata": {
        "colab": {
          "base_uri": "https://localhost:8080/"
        },
        "id": "jJFLKr0iWd92",
        "outputId": "0930c765-2e57-4c19-cec6-483ab13f827f"
      },
      "outputs": [
        {
          "name": "stdout",
          "output_type": "stream",
          "text": [
            "[ 0 ,  1 ,  2 ,  3 ,  4 ,  5 ,  6 ]\n",
            "['G', 'G', 'G', '-', 'B', 'B', 'B']\n"
          ]
        }
      ],
      "source": [
        "print(\"[ 0 ,  1 ,  2 ,  3 ,  4 ,  5 ,  6 ]\")\n",
        "print(Positions)"
      ]
    },
    {
      "cell_type": "markdown",
      "metadata": {
        "id": "tJEw9KLrWd93"
      },
      "source": [
        "Check for winning condition by comparing the elements of list. If player has won the game print 'You Win'"
      ]
    },
    {
      "cell_type": "code",
      "execution_count": null,
      "metadata": {
        "id": "nV1jNClIWd94"
      },
      "outputs": [],
      "source": [
        "if Positions == ['B','B','B','-','G','G','G']:\n",
        "    print(\"Congratulations.! YOU WIN 🎉\")"
      ]
    },
    {
      "cell_type": "markdown",
      "metadata": {
        "id": "4xvrvqcPWd94"
      },
      "source": [
        "Now the game should keep running until the player quits, so place all conditional statements inside an infinite loop.<br>\n",
        "1. We have to 'break' the loop if the player presses 'q' and quits.\n",
        "2. If the move made by player is 'Invalid' then we have to 'continue' without executing remaining part of the selected iteration.\n",
        "3. If player wins the game we have to break the loop."
      ]
    },
    {
      "cell_type": "markdown",
      "metadata": {
        "id": "X_45psZ8Wd95"
      },
      "source": [
        "```\n",
        "Infinite loop:\n",
        "    (inside loop)\n",
        "    1.taking inputs\n",
        "    2.Chek all conditions invalid and quite\n",
        "    3.Make the appropriate move by calculating position2.\n",
        "    4.Display game\n",
        "    4.Check winning condition\n",
        "```"
      ]
    },
    {
      "cell_type": "code",
      "execution_count": null,
      "metadata": {
        "colab": {
          "background_save": true,
          "base_uri": "https://localhost:8080/"
        },
        "id": "rhG4WDLHWd96",
        "outputId": "c307bb1e-c2b3-463b-e8fc-314c8629a674"
      },
      "outputs": [
        {
          "name": "stdout",
          "output_type": "stream",
          "text": [
            "###### Always enter an integer less that 7 ######\n",
            "[ 0 ,  1 ,  2 ,  3 ,  4 ,  5 ,  6 ]\n",
            "['G', 'G', 'G', '-', 'B', 'B', 'B']\n",
            "[ 0 ,  1 ,  2 ,  3 ,  4 ,  5 ,  6 ]\n",
            "['G', 'G', '-', 'G', 'B', 'B', 'B']\n"
          ]
        }
      ],
      "source": [
        "Positions = list(['G','G','G','-','B','B','B'])\n",
        "print(\"###### Always enter an integer less that 7 ######\")\n",
        "print(\"[ 0 ,  1 ,  2 ,  3 ,  4 ,  5 ,  6 ]\")\n",
        "print(Positions)\n",
        "\n",
        "while True:\n",
        "    pos = input(\"Press q to quit else \\nEnter position of piece:\")\n",
        "    if pos == 'q':\n",
        "        print(\"YOU LOSE!!\")\n",
        "        break\n",
        "    pos = int(pos)\n",
        "\n",
        "    if pos<0 or 6<pos:\n",
        "        print(\"Invalid move\")\n",
        "        continue\n",
        "    if Positions[pos] == '-':\n",
        "        print(\"Invalid move\")\n",
        "        continue\n",
        "\n",
        "    if Positions[pos] == 'G':\n",
        "        if (pos + 1) <= 6 and Positions[pos + 1] == '-':\n",
        "            pass\n",
        "        elif (pos + 2) <= 6 and Positions[pos + 2] == '-' and Positions[pos + 1] == 'B':\n",
        "            pass\n",
        "        else:\n",
        "            print(\"Invalid move\")\n",
        "            break\n",
        "    if Positions[pos] == 'B':\n",
        "        if (pos - 1) >= 0 and Positions[pos - 1] == '-':\n",
        "            pass\n",
        "        elif (pos - 2) >= 0 and Positions[pos - 2] == '-' and Positions[pos - 1] == 'G':\n",
        "            pass\n",
        "        else:\n",
        "            print(\"Invalid move\")\n",
        "\n",
        "    pos2 = 0\n",
        "    if Positions[pos] == 'G':\n",
        "        if Positions[pos + 1] == '-':\n",
        "            pos2 = (pos+1)\n",
        "        elif Positions[pos + 2] == '-':\n",
        "            pos2 = (pos+2)\n",
        "    if Positions[pos] == 'B':\n",
        "        if Positions[pos - 1] == '-':\n",
        "            pos2 = (pos-1)\n",
        "        elif Positions[pos - 2] == '-':\n",
        "            pos2 = (pos-2)\n",
        "    Positions[pos], Positions[pos2] = Positions[pos2], Positions[pos]\n",
        "\n",
        "    print(\"[ 0 ,  1 ,  2 ,  3 ,  4 ,  5 ,  6 ]\")\n",
        "    print(Positions)\n",
        "\n",
        "    if Positions == ['B','B','B','-','G','G','G']:\n",
        "        print(\"Congratulations.! YOU WIN 🎉\")\n",
        "        break"
      ]
    },
    {
      "cell_type": "markdown",
      "metadata": {
        "id": "NRCcvuazWd97"
      },
      "source": [
        "## To avoid printing the output too many times, clear the screen after every iteration\n",
        "1. Copy the following at the top of your code: <br>\n",
        "`from IPython.display import clear_output`\n",
        "2. We have to clear screen before displayinh new state in the game Add following function right before displaying output:<br>\n",
        "`clear_output()`\n",
        "\n",
        "#### Algorithm with `clear_output()`"
      ]
    },
    {
      "cell_type": "markdown",
      "metadata": {
        "id": "-yJrSzerWd97"
      },
      "source": [
        "```\n",
        "Infinite loop:\n",
        "    (inside loop)\n",
        "    1.taking inputs\n",
        "    2.Chek all conditions invalid and quite\n",
        "    3.Make the appropriate move by calculating position2.\n",
        "    clear_output()\n",
        "    4.Display game\n",
        "    4.Check winning condition\n",
        "```"
      ]
    },
    {
      "cell_type": "code",
      "execution_count": null,
      "metadata": {
        "colab": {
          "base_uri": "https://localhost:8080/"
        },
        "id": "ZBXA9pBeWd97",
        "outputId": "f0eb52b9-6950-4967-e34b-334581bcf97c"
      },
      "outputs": [
        {
          "name": "stdout",
          "output_type": "stream",
          "text": [
            "###### Always enter an integer less that 7 ######\n",
            "[ 0 ,  1 ,  2 ,  3 ,  4 ,  5 ,  6 ]\n",
            "['G', 'G', 'G', '-', 'B', 'B', 'B']\n"
          ]
        }
      ],
      "source": [
        "from IPython.display import clear_output\n",
        "Positions = list(['G','G','G','-','B','B','B'])\n",
        "print(\"###### Always enter an integer less that 7 ######\")\n",
        "print(\"[ 0 ,  1 ,  2 ,  3 ,  4 ,  5 ,  6 ]\")\n",
        "print(Positions)\n",
        "\n",
        "while True:\n",
        "    pos = input(\"Press q to quit else \\nEnter position of piece:\")\n",
        "    if pos == 'q':\n",
        "        print(\"YOU LOSE!!\")\n",
        "        break\n",
        "    pos = int(pos)\n",
        "\n",
        "    if pos<0 or 6<pos:\n",
        "        print(\"Invalid move\")\n",
        "        continue\n",
        "    if Positions[pos] == '-':\n",
        "        print(\"Invalid move\")\n",
        "        continue\n",
        "\n",
        "    if Positions[pos] == 'G':\n",
        "        if (pos + 1) <= 6 and Positions[pos + 1] == '-':\n",
        "            pass\n",
        "        elif (pos + 2) <= 6 and Positions[pos + 2] == '-' and Positions[pos + 1] == 'B':\n",
        "            pass\n",
        "        else:\n",
        "            print(\"Invalid move\")\n",
        "            break\n",
        "    if Positions[pos] == 'B':\n",
        "        if (pos - 1) >= 0 and Positions[pos - 1] == '-':\n",
        "            pass\n",
        "        elif (pos - 2) >= 0 and Positions[pos - 2] == '-' and Positions[pos - 1] == 'G':\n",
        "            pass\n",
        "        else:\n",
        "            print(\"Invalid move\")\n",
        "\n",
        "    pos2 = 0\n",
        "    if Positions[pos] == 'G':\n",
        "        if Positions[pos + 1] == '-':\n",
        "            pos2 = (pos+1)\n",
        "        elif Positions[pos + 2] == '-':\n",
        "            pos2 = (pos+2)\n",
        "    if Positions[pos] == 'B':\n",
        "        if Positions[pos - 1] == '-':\n",
        "            pos2 = (pos-1)\n",
        "        elif Positions[pos - 2] == '-':\n",
        "            pos2 = (pos-2)\n",
        "    Positions[pos], Positions[pos2] = Positions[pos2], Positions[pos]\n",
        "\n",
        "    clear_output()\n",
        "    print(\"[ 0 ,  1 ,  2 ,  3 ,  4 ,  5 ,  6 ]\")\n",
        "    print(Positions)\n",
        "\n",
        "    if Positions == ['B','B','B','-','G','G','G']:\n",
        "        print(\"Congratulations.! YOU WIN 🎉\")\n",
        "        break"
      ]
    },
    {
      "cell_type": "markdown",
      "metadata": {
        "id": "fxL0o--zWd99"
      },
      "source": [
        "#### The game is now functionally complete.\n",
        "Keeping everything inside the main loop is bad practice. Sometimes, it also introduces redundancy in the code. So let's create functions.<br>\n",
        "Create 2 functions `is_invalid()` and `make_a_move()` pass selected position to both functions. Define these functions right after variable declaration.\n",
        "\n",
        "- `is_invalid()`\n",
        "    1. Pass the selected position to this function.\n",
        "    2. Copy all conditions for validating a move in this function.\n",
        "    3. Remove all print statements from the conditions in the function.\n",
        "    4. In place of all `pass` statements we will return `False`\n",
        "    5. In place of all `continue` statements we will return `True`\n"
      ]
    },
    {
      "cell_type": "code",
      "execution_count": null,
      "metadata": {
        "id": "kaBXRL3fWd99"
      },
      "outputs": [],
      "source": [
        "def is_Invalid(pos):\n",
        "    if pos<0 or 6<pos:\n",
        "        return True\n",
        "\n",
        "    if Positions[pos] == '-':\n",
        "        return True\n",
        "\n",
        "    if Positions[pos] == 'G':\n",
        "        if (pos + 1) <= 6 and Positions[pos + 1] == '-':\n",
        "            return False\n",
        "        elif (pos + 2) <= 6 and Positions[pos + 2] == '-' and Positions[pos + 1] == 'B':\n",
        "            return False\n",
        "        else:\n",
        "            return True\n",
        "    if Positions[pos] == 'B':\n",
        "        if (pos - 1) >= 0 and Positions[pos - 1] == '-':\n",
        "            return False\n",
        "        elif (pos - 2) >= 0 and Positions[pos - 2] == '-' and Positions[pos - 1] == 'G':\n",
        "            return False\n",
        "        else:\n",
        "            return True"
      ]
    },
    {
      "cell_type": "markdown",
      "metadata": {
        "id": "3CezLDP8Wd99"
      },
      "source": [
        "- `make_a_move()`\n",
        "    1. Pass the selected position to this function.\n",
        "    2. Copy the code snippet that calculates position2 and also swaps the selected position with position2."
      ]
    },
    {
      "cell_type": "code",
      "execution_count": null,
      "metadata": {
        "id": "rjvLvXAmWd99"
      },
      "outputs": [],
      "source": [
        "def make_a_move(pos):\n",
        "    pos2 = 0\n",
        "    if Positions[pos] == 'G':\n",
        "        if Positions[pos + 1] == '-':\n",
        "            pos2 = (pos+1)\n",
        "        elif Positions[pos + 2] == '-':\n",
        "            pos2 = (pos+2)\n",
        "    elif Positions[pos] == 'B':\n",
        "        if Positions[pos - 1] == '-':\n",
        "            pos2 = (pos-1)\n",
        "        elif Positions[pos - 2] == '-':\n",
        "            pos2 = (pos-2)\n",
        "\n",
        "    Positions[pos], Positions[pos2] = Positions[pos2], Positions[pos]"
      ]
    },
    {
      "cell_type": "markdown",
      "metadata": {
        "id": "XlBz5xScWd99"
      },
      "source": [
        "Inside the while loop we have removed validing conditions and also make a move calculation. Insted of that write the following condition.<br>\n",
        "```\n",
        "If value returned by i_invalid() if 'True'\n",
        "    then print 'invalid move'\n",
        "else\n",
        "    call make_a_move() function\n",
        "```\n",
        "\n",
        "Write the whole code by making given changes."
      ]
    },
    {
      "cell_type": "code",
      "execution_count": null,
      "metadata": {
        "id": "AjKUicUHWd9-"
      },
      "outputs": [],
      "source": [
        "from IPython.display import clear_output\n",
        "Positions = list(['G','G','G','-','B','B','B'])\n",
        "print(\"###### Always enter an integer less that 7 ######\")\n",
        "print(\"[ 0 ,  1 ,  2 ,  3 ,  4 ,  5 ,  6 ]\")\n",
        "print(Positions)\n",
        "\n",
        "def is_Invalid(pos):\n",
        "    if pos<0 or 6<pos:\n",
        "        return True\n",
        "    if Positions[pos] == '-':\n",
        "        return True\n",
        "\n",
        "    if Positions[pos] == 'G':\n",
        "        if (pos + 1) <= 6 and Positions[pos + 1] == '-':\n",
        "            return False\n",
        "        elif (pos + 2) <= 6 and Positions[pos + 2] == '-' and Positions[pos + 1] == 'B':\n",
        "            return False\n",
        "        else:\n",
        "            return True\n",
        "\n",
        "    if Positions[pos] == 'B':\n",
        "        if (pos - 1) >= 0 and Positions[pos - 1] == '-':\n",
        "            return False\n",
        "        elif (pos - 2) >= 0 and Positions[pos - 2] == '-' and Positions[pos - 1] == 'G':\n",
        "            return False\n",
        "        else:\n",
        "            return True\n",
        "\n",
        "def make_a_move(pos):\n",
        "    pos2 = 0\n",
        "    if Positions[pos] == 'G':\n",
        "        if Positions[pos + 1] == '-':\n",
        "            pos2 = (pos+1)\n",
        "        elif Positions[pos + 2] == '-':\n",
        "            pos2 = (pos+2)\n",
        "    elif Positions[pos] == 'B':\n",
        "        if Positions[pos - 1] == '-':\n",
        "            pos2 = (pos-1)\n",
        "        elif Positions[pos - 2] == '-':\n",
        "            pos2 = (pos-2)\n",
        "\n",
        "    Positions[pos], Positions[pos2] = Positions[pos2], Positions[pos]\n",
        "\n",
        "while(True):\n",
        "    pos = input(\"Press q to quit else \\nEnter position of piece:\")\n",
        "    if pos == 'q':\n",
        "        print(\"YOU LOSE!!\")\n",
        "        break\n",
        "    pos = int(pos)\n",
        "    if is_Invalid(pos):\n",
        "        print(\"Invalid move\")\n",
        "        continue\n",
        "    else:\n",
        "        make_a_move(pos)\n",
        "\n",
        "    clear_output()\n",
        "    print(\"[ 0 ,  1 ,  2 ,  3 ,  4 ,  5 ,  6 ]\")\n",
        "    print(Positions)\n",
        "    if Positions == ['B','B','B','-','G','G','G']:\n",
        "        print(\"Congratulations.! YOU WIN 🎉\")\n",
        "        break"
      ]
    },
    {
      "cell_type": "markdown",
      "metadata": {
        "id": "aR7el3RaWd9_"
      },
      "source": [
        "### Now the game is complete.\n",
        "If you want to make it look more stylish then replace with emoji.<br>\n",
        "Replace:<br>\n",
        "'G' = '🐸' = '\\U0001F438'<br>\n",
        "'B' = '🐬' = '\\U0001F42C'<br>\n",
        "'-' = '🍁' = '\\U0001F341'"
      ]
    },
    {
      "cell_type": "code",
      "execution_count": null,
      "metadata": {
        "colab": {
          "background_save": true,
          "base_uri": "https://localhost:8080/"
        },
        "id": "oqchiIItWd9_",
        "outputId": "29a71d0c-b73b-419b-f2f4-d69b8cb6482e"
      },
      "outputs": [
        {
          "metadata": {
            "tags": null
          },
          "name": "stdout",
          "output_type": "stream",
          "text": [
            "[  0 ,   1 ,   2 ,   3 ,   4 ,   5 ,   6 ]\n",
            "['🐸', '🐸', '🐬', '🐸', '🍁', '🐬', '🐬']\n",
            "Press q to quit else \n",
            "Enter position of piece:"
          ]
        }
      ],
      "source": [
        "\n",
        "from IPython.display import clear_output\n",
        "Positions = list(['\\U0001F438','\\U0001F438','\\U0001F438','\\U0001F341','\\U0001F42C','\\U0001F42C','\\U0001F42C'])\n",
        "print(\"###### Always enter an integer less that 7 ######\")\n",
        "print(\"[  0 ,   1 ,   2 ,   3 ,   4 ,   5 ,   6 ]\")\n",
        "print(Positions)\n",
        "\n",
        "def is_Invalid(pos):\n",
        "    if pos<0 or 6<pos:\n",
        "        return True\n",
        "    if Positions[pos] == '\\U0001F341':\n",
        "        return True\n",
        "\n",
        "    if Positions[pos] == '\\U0001F438':\n",
        "        if (pos + 1) <= 6 and Positions[pos + 1] == '\\U0001F341':\n",
        "            return False\n",
        "        elif (pos + 2) <= 6 and Positions[pos + 2] == '\\U0001F341' and Positions[pos + 1] == '\\U0001F42C':\n",
        "            return False\n",
        "        else:\n",
        "            return True\n",
        "\n",
        "    if Positions[pos] == '\\U0001F42C':\n",
        "        if (pos - 1) >= 0 and Positions[pos - 1] == '\\U0001F341':\n",
        "            return False\n",
        "        elif (pos - 2) >= 0 and Positions[pos - 2] == '\\U0001F341' and Positions[pos - 1] == '\\U0001F438':\n",
        "            return False\n",
        "        else:\n",
        "            return True\n",
        "\n",
        "def make_a_move(pos):\n",
        "    pos2 = 0\n",
        "    if Positions[pos] == '\\U0001F438':\n",
        "        if Positions[pos + 1] == '\\U0001F341':\n",
        "            pos2 = (pos+1)\n",
        "        elif Positions[pos + 2] == '\\U0001F341':\n",
        "            pos2 = (pos+2)\n",
        "    elif Positions[pos] == '\\U0001F42C':\n",
        "        if Positions[pos - 1] == '\\U0001F341':\n",
        "            pos2 = (pos-1)\n",
        "        elif Positions[pos - 2] == '\\U0001F341':\n",
        "            pos2 = (pos-2)\n",
        "\n",
        "    Positions[pos], Positions[pos2] = Positions[pos2], Positions[pos]\n",
        "\n",
        "while(True):\n",
        "    print(\"Press q to quit else \\nEnter position of piece:\", end='')\n",
        "    pos = input()\n",
        "    if pos == 'q':\n",
        "        print(\"YOU LOSE!!\")\n",
        "        break\n",
        "    pos = int(pos)\n",
        "    if is_Invalid(pos):\n",
        "        print(\"Invalid move\")\n",
        "        continue\n",
        "    else:\n",
        "        make_a_move(pos)\n",
        "\n",
        "    clear_output()\n",
        "    print(\"[  0 ,   1 ,   2 ,   3 ,   4 ,   5 ,   6 ]\")\n",
        "    print(Positions)\n",
        "\n",
        "    if Positions == ['\\U0001F42C','\\U0001F42C','\\U0001F42C','\\U0001F341','\\U0001F438','\\U0001F438','\\U0001F438']:\n",
        "        print(\"Congratulations.! YOU WIN 🎉\")\n",
        "        break"
      ]
    }
  ],
  "metadata": {
    "accelerator": "TPU",
    "colab": {
      "provenance": []
    },
    "kernelspec": {
      "display_name": "Python 3",
      "name": "python3"
    },
    "language_info": {
      "codemirror_mode": {
        "name": "ipython",
        "version": 3
      },
      "file_extension": ".py",
      "mimetype": "text/x-python",
      "name": "python",
      "nbconvert_exporter": "python",
      "pygments_lexer": "ipython3",
      "version": "3.7.6"
    }
  },
  "nbformat": 4,
  "nbformat_minor": 0
}